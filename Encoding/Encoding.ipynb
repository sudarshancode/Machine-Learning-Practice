{
 "cells": [
  {
   "cell_type": "markdown",
   "id": "57c3d996-e2e1-44ad-a4c1-28fa49eca019",
   "metadata": {},
   "source": [
    "------------------------------------------Lable Encoder---------------------------------------- "
   ]
  },
  {
   "cell_type": "code",
   "execution_count": 1,
   "id": "46bd09ca-618b-4f14-a552-41dce8022d77",
   "metadata": {},
   "outputs": [],
   "source": [
    "student_class=[\"class1\",\"class2\",\"class3\",\"class4\"]\n",
    "instances=[\"class1\",\"class2\",\"class3\",\"class2\",\"class4\",\"class1\",\"class3\"]"
   ]
  },
  {
   "cell_type": "code",
   "execution_count": 3,
   "id": "8da949e2-5714-4394-87eb-ae76970f05e9",
   "metadata": {},
   "outputs": [],
   "source": [
    "from sklearn.preprocessing import LabelEncoder"
   ]
  },
  {
   "cell_type": "code",
   "execution_count": 5,
   "id": "a2c5b8e5-9c4c-4111-9552-3a087b240851",
   "metadata": {},
   "outputs": [],
   "source": [
    "label_encoder=LabelEncoder()"
   ]
  },
  {
   "cell_type": "code",
   "execution_count": 8,
   "id": "4dd89a39-ed83-4653-bcd4-a0e1caf827d6",
   "metadata": {},
   "outputs": [],
   "source": [
    "encoded_labels=label_encoder.fit_transform(instances)"
   ]
  },
  {
   "cell_type": "code",
   "execution_count": 9,
   "id": "8a659da2-14a8-4dd9-9c54-9cc8ad853f2c",
   "metadata": {},
   "outputs": [
    {
     "data": {
      "text/plain": [
       "array([0, 1, 2, 1, 3, 0, 2])"
      ]
     },
     "execution_count": 9,
     "metadata": {},
     "output_type": "execute_result"
    }
   ],
   "source": [
    "encoded_labels"
   ]
  },
  {
   "cell_type": "code",
   "execution_count": 10,
   "id": "39a4f89f-aeaf-4ba6-932d-b34bde9b1ff4",
   "metadata": {},
   "outputs": [],
   "source": [
    "original_labels=label_encoder.inverse_transform(encoded_labels)"
   ]
  },
  {
   "cell_type": "code",
   "execution_count": 11,
   "id": "291682e7-bad0-40cd-ba4a-700ef01a144d",
   "metadata": {},
   "outputs": [
    {
     "name": "stdout",
     "output_type": "stream",
     "text": [
      "Original labels: ['class1' 'class2' 'class3' 'class2' 'class4' 'class1' 'class3']\n"
     ]
    }
   ],
   "source": [
    "print(\"Original labels:\",original_labels)"
   ]
  },
  {
   "cell_type": "raw",
   "id": "4913db88-78d6-49b1-8c13-563ddd56b6d5",
   "metadata": {},
   "source": [
    "----------------------------OneHot Encoding------------------------------------------"
   ]
  },
  {
   "cell_type": "code",
   "execution_count": 12,
   "id": "34b0e6bb-4519-440b-a6ce-822f02fe061c",
   "metadata": {},
   "outputs": [],
   "source": [
    "import pandas as pd"
   ]
  },
  {
   "cell_type": "code",
   "execution_count": 13,
   "id": "4e779d3d-aa6f-408a-b07a-a91666d58c6b",
   "metadata": {},
   "outputs": [],
   "source": [
    "data={\"catagory\":[\"classA\",\"classB\",\"classC\",\"classA\",\"classC\",\"classB\"]}"
   ]
  },
  {
   "cell_type": "code",
   "execution_count": 14,
   "id": "82b75598-ae04-46b7-bc14-eaf20c51d4de",
   "metadata": {},
   "outputs": [
    {
     "data": {
      "text/html": [
       "<div>\n",
       "<style scoped>\n",
       "    .dataframe tbody tr th:only-of-type {\n",
       "        vertical-align: middle;\n",
       "    }\n",
       "\n",
       "    .dataframe tbody tr th {\n",
       "        vertical-align: top;\n",
       "    }\n",
       "\n",
       "    .dataframe thead th {\n",
       "        text-align: right;\n",
       "    }\n",
       "</style>\n",
       "<table border=\"1\" class=\"dataframe\">\n",
       "  <thead>\n",
       "    <tr style=\"text-align: right;\">\n",
       "      <th></th>\n",
       "      <th>catagory</th>\n",
       "    </tr>\n",
       "  </thead>\n",
       "  <tbody>\n",
       "    <tr>\n",
       "      <th>0</th>\n",
       "      <td>classA</td>\n",
       "    </tr>\n",
       "    <tr>\n",
       "      <th>1</th>\n",
       "      <td>classB</td>\n",
       "    </tr>\n",
       "    <tr>\n",
       "      <th>2</th>\n",
       "      <td>classC</td>\n",
       "    </tr>\n",
       "    <tr>\n",
       "      <th>3</th>\n",
       "      <td>classA</td>\n",
       "    </tr>\n",
       "    <tr>\n",
       "      <th>4</th>\n",
       "      <td>classC</td>\n",
       "    </tr>\n",
       "  </tbody>\n",
       "</table>\n",
       "</div>"
      ],
      "text/plain": [
       "  catagory\n",
       "0   classA\n",
       "1   classB\n",
       "2   classC\n",
       "3   classA\n",
       "4   classC"
      ]
     },
     "execution_count": 14,
     "metadata": {},
     "output_type": "execute_result"
    }
   ],
   "source": [
    "df=pd.DataFrame(data)\n",
    "df.head()"
   ]
  },
  {
   "cell_type": "code",
   "execution_count": 16,
   "id": "e0f287d2-bab0-4a63-b762-2603c114df18",
   "metadata": {},
   "outputs": [
    {
     "data": {
      "text/html": [
       "<div>\n",
       "<style scoped>\n",
       "    .dataframe tbody tr th:only-of-type {\n",
       "        vertical-align: middle;\n",
       "    }\n",
       "\n",
       "    .dataframe tbody tr th {\n",
       "        vertical-align: top;\n",
       "    }\n",
       "\n",
       "    .dataframe thead th {\n",
       "        text-align: right;\n",
       "    }\n",
       "</style>\n",
       "<table border=\"1\" class=\"dataframe\">\n",
       "  <thead>\n",
       "    <tr style=\"text-align: right;\">\n",
       "      <th></th>\n",
       "      <th>catagory_classA</th>\n",
       "      <th>catagory_classB</th>\n",
       "      <th>catagory_classC</th>\n",
       "    </tr>\n",
       "  </thead>\n",
       "  <tbody>\n",
       "    <tr>\n",
       "      <th>0</th>\n",
       "      <td>True</td>\n",
       "      <td>False</td>\n",
       "      <td>False</td>\n",
       "    </tr>\n",
       "    <tr>\n",
       "      <th>1</th>\n",
       "      <td>False</td>\n",
       "      <td>True</td>\n",
       "      <td>False</td>\n",
       "    </tr>\n",
       "    <tr>\n",
       "      <th>2</th>\n",
       "      <td>False</td>\n",
       "      <td>False</td>\n",
       "      <td>True</td>\n",
       "    </tr>\n",
       "    <tr>\n",
       "      <th>3</th>\n",
       "      <td>True</td>\n",
       "      <td>False</td>\n",
       "      <td>False</td>\n",
       "    </tr>\n",
       "    <tr>\n",
       "      <th>4</th>\n",
       "      <td>False</td>\n",
       "      <td>False</td>\n",
       "      <td>True</td>\n",
       "    </tr>\n",
       "    <tr>\n",
       "      <th>5</th>\n",
       "      <td>False</td>\n",
       "      <td>True</td>\n",
       "      <td>False</td>\n",
       "    </tr>\n",
       "  </tbody>\n",
       "</table>\n",
       "</div>"
      ],
      "text/plain": [
       "   catagory_classA  catagory_classB  catagory_classC\n",
       "0             True            False            False\n",
       "1            False             True            False\n",
       "2            False            False             True\n",
       "3             True            False            False\n",
       "4            False            False             True\n",
       "5            False             True            False"
      ]
     },
     "execution_count": 16,
     "metadata": {},
     "output_type": "execute_result"
    }
   ],
   "source": [
    "one_hot_encoded_df=pd.get_dummies(df,columns=[\"catagory\"])\n",
    "one_hot_encoded_df"
   ]
  },
  {
   "cell_type": "code",
   "execution_count": null,
   "id": "7b30ed49-efdb-449a-96e9-4cfc164c38c6",
   "metadata": {},
   "outputs": [],
   "source": []
  }
 ],
 "metadata": {
  "kernelspec": {
   "display_name": "Python 3 (ipykernel)",
   "language": "python",
   "name": "python3"
  },
  "language_info": {
   "codemirror_mode": {
    "name": "ipython",
    "version": 3
   },
   "file_extension": ".py",
   "mimetype": "text/x-python",
   "name": "python",
   "nbconvert_exporter": "python",
   "pygments_lexer": "ipython3",
   "version": "3.13.0"
  }
 },
 "nbformat": 4,
 "nbformat_minor": 5
}
